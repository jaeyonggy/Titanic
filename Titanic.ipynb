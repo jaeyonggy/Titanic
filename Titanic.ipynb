{
 "cells": [
  {
   "cell_type": "markdown",
   "id": "israeli-coffee",
   "metadata": {},
   "source": [
    "# **_Titanic - Machine Learning_**"
   ]
  },
  {
   "cell_type": "markdown",
   "id": "arranged-reservation",
   "metadata": {},
   "source": [
    "## _목차_ \n",
    "### •Importing Data  \n",
    "### •Data Preprocessing\n",
    "### •Feature Scaling \n",
    "### •Modeling  \n",
    "### •Hyperparameter Tuning  \n",
    "### •Output  \n",
    "### •Reference\n",
    "  \n",
    "  \n",
    "  \n",
    "  "
   ]
  },
  {
   "cell_type": "code",
   "execution_count": 1,
   "id": "academic-corrections",
   "metadata": {},
   "outputs": [],
   "source": [
    "import pandas as pd\n",
    "import numpy as np\n",
    "import matplotlib.pyplot as plt\n",
    "import seaborn as sns\n",
    "import warnings\n",
    "warnings.filterwarnings(action='ignore')"
   ]
  },
  {
   "cell_type": "markdown",
   "id": "surprised-dictionary",
   "metadata": {},
   "source": [
    "## _Importing Data_"
   ]
  },
  {
   "cell_type": "code",
   "execution_count": 2,
   "id": "alike-disco",
   "metadata": {},
   "outputs": [],
   "source": [
    "train_data = pd.read_csv('train.csv')\n",
    "test_data = pd.read_csv('test.csv')\n",
    "train = train_data.copy()\n",
    "test = test_data.copy()"
   ]
  },
  {
   "cell_type": "code",
   "execution_count": 3,
   "id": "social-rocket",
   "metadata": {},
   "outputs": [
    {
     "data": {
      "text/html": [
       "<div>\n",
       "<style scoped>\n",
       "    .dataframe tbody tr th:only-of-type {\n",
       "        vertical-align: middle;\n",
       "    }\n",
       "\n",
       "    .dataframe tbody tr th {\n",
       "        vertical-align: top;\n",
       "    }\n",
       "\n",
       "    .dataframe thead th {\n",
       "        text-align: right;\n",
       "    }\n",
       "</style>\n",
       "<table border=\"1\" class=\"dataframe\">\n",
       "  <thead>\n",
       "    <tr style=\"text-align: right;\">\n",
       "      <th></th>\n",
       "      <th>PassengerId</th>\n",
       "      <th>Survived</th>\n",
       "      <th>Pclass</th>\n",
       "      <th>Name</th>\n",
       "      <th>Sex</th>\n",
       "      <th>Age</th>\n",
       "      <th>SibSp</th>\n",
       "      <th>Parch</th>\n",
       "      <th>Ticket</th>\n",
       "      <th>Fare</th>\n",
       "      <th>Cabin</th>\n",
       "      <th>Embarked</th>\n",
       "    </tr>\n",
       "  </thead>\n",
       "  <tbody>\n",
       "    <tr>\n",
       "      <th>0</th>\n",
       "      <td>1</td>\n",
       "      <td>0</td>\n",
       "      <td>3</td>\n",
       "      <td>Braund, Mr. Owen Harris</td>\n",
       "      <td>male</td>\n",
       "      <td>22.0</td>\n",
       "      <td>1</td>\n",
       "      <td>0</td>\n",
       "      <td>A/5 21171</td>\n",
       "      <td>7.2500</td>\n",
       "      <td>NaN</td>\n",
       "      <td>S</td>\n",
       "    </tr>\n",
       "    <tr>\n",
       "      <th>1</th>\n",
       "      <td>2</td>\n",
       "      <td>1</td>\n",
       "      <td>1</td>\n",
       "      <td>Cumings, Mrs. John Bradley (Florence Briggs Th...</td>\n",
       "      <td>female</td>\n",
       "      <td>38.0</td>\n",
       "      <td>1</td>\n",
       "      <td>0</td>\n",
       "      <td>PC 17599</td>\n",
       "      <td>71.2833</td>\n",
       "      <td>C85</td>\n",
       "      <td>C</td>\n",
       "    </tr>\n",
       "    <tr>\n",
       "      <th>2</th>\n",
       "      <td>3</td>\n",
       "      <td>1</td>\n",
       "      <td>3</td>\n",
       "      <td>Heikkinen, Miss. Laina</td>\n",
       "      <td>female</td>\n",
       "      <td>26.0</td>\n",
       "      <td>0</td>\n",
       "      <td>0</td>\n",
       "      <td>STON/O2. 3101282</td>\n",
       "      <td>7.9250</td>\n",
       "      <td>NaN</td>\n",
       "      <td>S</td>\n",
       "    </tr>\n",
       "    <tr>\n",
       "      <th>3</th>\n",
       "      <td>4</td>\n",
       "      <td>1</td>\n",
       "      <td>1</td>\n",
       "      <td>Futrelle, Mrs. Jacques Heath (Lily May Peel)</td>\n",
       "      <td>female</td>\n",
       "      <td>35.0</td>\n",
       "      <td>1</td>\n",
       "      <td>0</td>\n",
       "      <td>113803</td>\n",
       "      <td>53.1000</td>\n",
       "      <td>C123</td>\n",
       "      <td>S</td>\n",
       "    </tr>\n",
       "    <tr>\n",
       "      <th>4</th>\n",
       "      <td>5</td>\n",
       "      <td>0</td>\n",
       "      <td>3</td>\n",
       "      <td>Allen, Mr. William Henry</td>\n",
       "      <td>male</td>\n",
       "      <td>35.0</td>\n",
       "      <td>0</td>\n",
       "      <td>0</td>\n",
       "      <td>373450</td>\n",
       "      <td>8.0500</td>\n",
       "      <td>NaN</td>\n",
       "      <td>S</td>\n",
       "    </tr>\n",
       "  </tbody>\n",
       "</table>\n",
       "</div>"
      ],
      "text/plain": [
       "   PassengerId  Survived  Pclass  \\\n",
       "0            1         0       3   \n",
       "1            2         1       1   \n",
       "2            3         1       3   \n",
       "3            4         1       1   \n",
       "4            5         0       3   \n",
       "\n",
       "                                                Name     Sex   Age  SibSp  \\\n",
       "0                            Braund, Mr. Owen Harris    male  22.0      1   \n",
       "1  Cumings, Mrs. John Bradley (Florence Briggs Th...  female  38.0      1   \n",
       "2                             Heikkinen, Miss. Laina  female  26.0      0   \n",
       "3       Futrelle, Mrs. Jacques Heath (Lily May Peel)  female  35.0      1   \n",
       "4                           Allen, Mr. William Henry    male  35.0      0   \n",
       "\n",
       "   Parch            Ticket     Fare Cabin Embarked  \n",
       "0      0         A/5 21171   7.2500   NaN        S  \n",
       "1      0          PC 17599  71.2833   C85        C  \n",
       "2      0  STON/O2. 3101282   7.9250   NaN        S  \n",
       "3      0            113803  53.1000  C123        S  \n",
       "4      0            373450   8.0500   NaN        S  "
      ]
     },
     "execution_count": 3,
     "metadata": {},
     "output_type": "execute_result"
    }
   ],
   "source": [
    "train.head()"
   ]
  },
  {
   "cell_type": "markdown",
   "id": "addressed-contest",
   "metadata": {},
   "source": [
    "#### PassengerId는 후에 Kaggle에 제출할 때만 필요하므로 지금은 필요가 없다."
   ]
  },
  {
   "cell_type": "code",
   "execution_count": 4,
   "id": "initial-clinic",
   "metadata": {},
   "outputs": [],
   "source": [
    "train.drop(['PassengerId'],axis=1,inplace=True)\n",
    "test.drop(['PassengerId'],axis=1,inplace=True)\n",
    "pred = train_data['Survived']"
   ]
  },
  {
   "cell_type": "code",
   "execution_count": 5,
   "id": "subtle-registration",
   "metadata": {},
   "outputs": [
    {
     "data": {
      "text/html": [
       "<div>\n",
       "<style scoped>\n",
       "    .dataframe tbody tr th:only-of-type {\n",
       "        vertical-align: middle;\n",
       "    }\n",
       "\n",
       "    .dataframe tbody tr th {\n",
       "        vertical-align: top;\n",
       "    }\n",
       "\n",
       "    .dataframe thead th {\n",
       "        text-align: right;\n",
       "    }\n",
       "</style>\n",
       "<table border=\"1\" class=\"dataframe\">\n",
       "  <thead>\n",
       "    <tr style=\"text-align: right;\">\n",
       "      <th></th>\n",
       "      <th>Survived</th>\n",
       "      <th>Pclass</th>\n",
       "      <th>Name</th>\n",
       "      <th>Sex</th>\n",
       "      <th>Age</th>\n",
       "      <th>SibSp</th>\n",
       "      <th>Parch</th>\n",
       "      <th>Ticket</th>\n",
       "      <th>Fare</th>\n",
       "      <th>Cabin</th>\n",
       "      <th>Embarked</th>\n",
       "    </tr>\n",
       "  </thead>\n",
       "  <tbody>\n",
       "    <tr>\n",
       "      <th>0</th>\n",
       "      <td>0</td>\n",
       "      <td>3</td>\n",
       "      <td>Braund, Mr. Owen Harris</td>\n",
       "      <td>male</td>\n",
       "      <td>22.0</td>\n",
       "      <td>1</td>\n",
       "      <td>0</td>\n",
       "      <td>A/5 21171</td>\n",
       "      <td>7.2500</td>\n",
       "      <td>NaN</td>\n",
       "      <td>S</td>\n",
       "    </tr>\n",
       "    <tr>\n",
       "      <th>1</th>\n",
       "      <td>1</td>\n",
       "      <td>1</td>\n",
       "      <td>Cumings, Mrs. John Bradley (Florence Briggs Th...</td>\n",
       "      <td>female</td>\n",
       "      <td>38.0</td>\n",
       "      <td>1</td>\n",
       "      <td>0</td>\n",
       "      <td>PC 17599</td>\n",
       "      <td>71.2833</td>\n",
       "      <td>C85</td>\n",
       "      <td>C</td>\n",
       "    </tr>\n",
       "    <tr>\n",
       "      <th>2</th>\n",
       "      <td>1</td>\n",
       "      <td>3</td>\n",
       "      <td>Heikkinen, Miss. Laina</td>\n",
       "      <td>female</td>\n",
       "      <td>26.0</td>\n",
       "      <td>0</td>\n",
       "      <td>0</td>\n",
       "      <td>STON/O2. 3101282</td>\n",
       "      <td>7.9250</td>\n",
       "      <td>NaN</td>\n",
       "      <td>S</td>\n",
       "    </tr>\n",
       "    <tr>\n",
       "      <th>3</th>\n",
       "      <td>1</td>\n",
       "      <td>1</td>\n",
       "      <td>Futrelle, Mrs. Jacques Heath (Lily May Peel)</td>\n",
       "      <td>female</td>\n",
       "      <td>35.0</td>\n",
       "      <td>1</td>\n",
       "      <td>0</td>\n",
       "      <td>113803</td>\n",
       "      <td>53.1000</td>\n",
       "      <td>C123</td>\n",
       "      <td>S</td>\n",
       "    </tr>\n",
       "    <tr>\n",
       "      <th>4</th>\n",
       "      <td>0</td>\n",
       "      <td>3</td>\n",
       "      <td>Allen, Mr. William Henry</td>\n",
       "      <td>male</td>\n",
       "      <td>35.0</td>\n",
       "      <td>0</td>\n",
       "      <td>0</td>\n",
       "      <td>373450</td>\n",
       "      <td>8.0500</td>\n",
       "      <td>NaN</td>\n",
       "      <td>S</td>\n",
       "    </tr>\n",
       "  </tbody>\n",
       "</table>\n",
       "</div>"
      ],
      "text/plain": [
       "   Survived  Pclass                                               Name  \\\n",
       "0         0       3                            Braund, Mr. Owen Harris   \n",
       "1         1       1  Cumings, Mrs. John Bradley (Florence Briggs Th...   \n",
       "2         1       3                             Heikkinen, Miss. Laina   \n",
       "3         1       1       Futrelle, Mrs. Jacques Heath (Lily May Peel)   \n",
       "4         0       3                           Allen, Mr. William Henry   \n",
       "\n",
       "      Sex   Age  SibSp  Parch            Ticket     Fare Cabin Embarked  \n",
       "0    male  22.0      1      0         A/5 21171   7.2500   NaN        S  \n",
       "1  female  38.0      1      0          PC 17599  71.2833   C85        C  \n",
       "2  female  26.0      0      0  STON/O2. 3101282   7.9250   NaN        S  \n",
       "3  female  35.0      1      0            113803  53.1000  C123        S  \n",
       "4    male  35.0      0      0            373450   8.0500   NaN        S  "
      ]
     },
     "execution_count": 5,
     "metadata": {},
     "output_type": "execute_result"
    }
   ],
   "source": [
    "train.head()"
   ]
  },
  {
   "cell_type": "markdown",
   "id": "handmade-manhattan",
   "metadata": {},
   "source": [
    "#### 결측값 확인"
   ]
  },
  {
   "cell_type": "code",
   "execution_count": 6,
   "id": "noted-folder",
   "metadata": {},
   "outputs": [
    {
     "data": {
      "text/plain": [
       "Survived      0\n",
       "Pclass        0\n",
       "Name          0\n",
       "Sex           0\n",
       "Age         177\n",
       "SibSp         0\n",
       "Parch         0\n",
       "Ticket        0\n",
       "Fare          0\n",
       "Cabin       687\n",
       "Embarked      2\n",
       "dtype: int64"
      ]
     },
     "execution_count": 6,
     "metadata": {},
     "output_type": "execute_result"
    }
   ],
   "source": [
    "train.isnull().sum()"
   ]
  },
  {
   "cell_type": "code",
   "execution_count": 7,
   "id": "magnetic-garlic",
   "metadata": {},
   "outputs": [
    {
     "data": {
      "text/plain": [
       "Pclass        0\n",
       "Name          0\n",
       "Sex           0\n",
       "Age          86\n",
       "SibSp         0\n",
       "Parch         0\n",
       "Ticket        0\n",
       "Fare          1\n",
       "Cabin       327\n",
       "Embarked      0\n",
       "dtype: int64"
      ]
     },
     "execution_count": 7,
     "metadata": {},
     "output_type": "execute_result"
    }
   ],
   "source": [
    "test.isnull().sum()"
   ]
  },
  {
   "cell_type": "markdown",
   "id": "corresponding-gallery",
   "metadata": {},
   "source": [
    "#### Age, Cabin, Fare, Embarked에 결측치가 있다."
   ]
  },
  {
   "cell_type": "markdown",
   "id": "manufactured-tutorial",
   "metadata": {},
   "source": [
    "## _Data Preprocessing_  \n",
    "### Explanatory Data Analysis (EDA) & Feature Engineering"
   ]
  },
  {
   "cell_type": "markdown",
   "id": "refined-confirmation",
   "metadata": {},
   "source": [
    "### 1. Sex"
   ]
  },
  {
   "cell_type": "code",
   "execution_count": 8,
   "id": "fifth-hamilton",
   "metadata": {},
   "outputs": [
    {
     "data": {
      "text/plain": [
       "<AxesSubplot:xlabel='Sex', ylabel='count'>"
      ]
     },
     "execution_count": 8,
     "metadata": {},
     "output_type": "execute_result"
    },
    {
     "data": {
      "image/png": "[encoded data removed]",
      "text/plain": [
       "<Figure size 720x432 with 1 Axes>"
      ]
     },
     "metadata": {
      "needs_background": "light"
     },
     "output_type": "display_data"
    }
   ],
   "source": [
    "plt.figure(figsize=(10, 6))\n",
    "sns.set_style('whitegrid')\n",
    "sns.countplot(x = 'Sex',hue='Survived',data=train_data,palette='rainbow')"
   ]
  },
  {
   "cell_type": "markdown",
   "id": "manufactured-memory",
   "metadata": {},
   "source": [
    "#### Sex는 categorical 변수로 numerical 변수로 바꿔줄 필요가 있다."
   ]
  },
  {
   "cell_type": "code",
   "execution_count": 9,
   "id": "proper-parliament",
   "metadata": {},
   "outputs": [],
   "source": [
    "sex_train = pd.get_dummies(train['Sex'])\n",
    "sex_test = pd.get_dummies(test['Sex'])\n",
    "\n",
    "train.drop(['Sex'],axis=1,inplace=True)\n",
    "test.drop(['Sex'],axis=1,inplace=True)\n",
    "\n",
    "train = pd.concat([train,sex_train],axis=1)\n",
    "test = pd.concat([test,sex_test],axis=1)"
   ]
  },
  {
   "cell_type": "code",
   "execution_count": 10,
   "id": "median-magnet",
   "metadata": {},
   "outputs": [
    {
     "data": {
      "text/html": [
       "<div>\n",
       "<style scoped>\n",
       "    .dataframe tbody tr th:only-of-type {\n",
       "        vertical-align: middle;\n",
       "    }\n",
       "\n",
       "    .dataframe tbody tr th {\n",
       "        vertical-align: top;\n",
       "    }\n",
       "\n",
       "    .dataframe thead th {\n",
       "        text-align: right;\n",
       "    }\n",
       "</style>\n",
       "<table border=\"1\" class=\"dataframe\">\n",
       "  <thead>\n",
       "    <tr style=\"text-align: right;\">\n",
       "      <th></th>\n",
       "      <th>Survived</th>\n",
       "      <th>Pclass</th>\n",
       "      <th>Name</th>\n",
       "      <th>Age</th>\n",
       "      <th>SibSp</th>\n",
       "      <th>Parch</th>\n",
       "      <th>Ticket</th>\n",
       "      <th>Fare</th>\n",
       "      <th>Cabin</th>\n",
       "      <th>Embarked</th>\n",
       "      <th>female</th>\n",
       "      <th>male</th>\n",
       "    </tr>\n",
       "  </thead>\n",
       "  <tbody>\n",
       "    <tr>\n",
       "      <th>0</th>\n",
       "      <td>0</td>\n",
       "      <td>3</td>\n",
       "      <td>Braund, Mr. Owen Harris</td>\n",
       "      <td>22.0</td>\n",
       "      <td>1</td>\n",
       "      <td>0</td>\n",
       "      <td>A/5 21171</td>\n",
       "      <td>7.2500</td>\n",
       "      <td>NaN</td>\n",
       "      <td>S</td>\n",
       "      <td>0</td>\n",
       "      <td>1</td>\n",
       "    </tr>\n",
       "    <tr>\n",
       "      <th>1</th>\n",
       "      <td>1</td>\n",
       "      <td>1</td>\n",
       "      <td>Cumings, Mrs. John Bradley (Florence Briggs Th...</td>\n",
       "      <td>38.0</td>\n",
       "      <td>1</td>\n",
       "      <td>0</td>\n",
       "      <td>PC 17599</td>\n",
       "      <td>71.2833</td>\n",
       "      <td>C85</td>\n",
       "      <td>C</td>\n",
       "      <td>1</td>\n",
       "      <td>0</td>\n",
       "    </tr>\n",
       "    <tr>\n",
       "      <th>2</th>\n",
       "      <td>1</td>\n",
       "      <td>3</td>\n",
       "      <td>Heikkinen, Miss. Laina</td>\n",
       "      <td>26.0</td>\n",
       "      <td>0</td>\n",
       "      <td>0</td>\n",
       "      <td>STON/O2. 3101282</td>\n",
       "      <td>7.9250</td>\n",
       "      <td>NaN</td>\n",
       "      <td>S</td>\n",
       "      <td>1</td>\n",
       "      <td>0</td>\n",
       "    </tr>\n",
       "    <tr>\n",
       "      <th>3</th>\n",
       "      <td>1</td>\n",
       "      <td>1</td>\n",
       "      <td>Futrelle, Mrs. Jacques Heath (Lily May Peel)</td>\n",
       "      <td>35.0</td>\n",
       "      <td>1</td>\n",
       "      <td>0</td>\n",
       "      <td>113803</td>\n",
       "      <td>53.1000</td>\n",
       "      <td>C123</td>\n",
       "      <td>S</td>\n",
       "      <td>1</td>\n",
       "      <td>0</td>\n",
       "    </tr>\n",
       "    <tr>\n",
       "      <th>4</th>\n",
       "      <td>0</td>\n",
       "      <td>3</td>\n",
       "      <td>Allen, Mr. William Henry</td>\n",
       "      <td>35.0</td>\n",
       "      <td>0</td>\n",
       "      <td>0</td>\n",
       "      <td>373450</td>\n",
       "      <td>8.0500</td>\n",
       "      <td>NaN</td>\n",
       "      <td>S</td>\n",
       "      <td>0</td>\n",
       "      <td>1</td>\n",
       "    </tr>\n",
       "  </tbody>\n",
       "</table>\n",
       "</div>"
      ],
      "text/plain": [
       "   Survived  Pclass                                               Name   Age  \\\n",
       "0         0       3                            Braund, Mr. Owen Harris  22.0   \n",
       "1         1       1  Cumings, Mrs. John Bradley (Florence Briggs Th...  38.0   \n",
       "2         1       3                             Heikkinen, Miss. Laina  26.0   \n",
       "3         1       1       Futrelle, Mrs. Jacques Heath (Lily May Peel)  35.0   \n",
       "4         0       3                           Allen, Mr. William Henry  35.0   \n",
       "\n",
       "   SibSp  Parch            Ticket     Fare Cabin Embarked  female  male  \n",
       "0      1      0         A/5 21171   7.2500   NaN        S       0     1  \n",
       "1      1      0          PC 17599  71.2833   C85        C       1     0  \n",
       "2      0      0  STON/O2. 3101282   7.9250   NaN        S       1     0  \n",
       "3      1      0            113803  53.1000  C123        S       1     0  \n",
       "4      0      0            373450   8.0500   NaN        S       0     1  "
      ]
     },
     "execution_count": 10,
     "metadata": {},
     "output_type": "execute_result"
    }
   ],
   "source": [
    "train.head()"
   ]
  },
  {
   "cell_type": "markdown",
   "id": "negative-military",
   "metadata": {},
   "source": [
    "#### male변수가 0인 경우 female임을 뜻하므로 female변수는 redundant하다. 따라서 female은 빼준다."
   ]
  },
  {
   "cell_type": "code",
   "execution_count": 11,
   "id": "conditional-journalism",
   "metadata": {},
   "outputs": [],
   "source": [
    "train.drop(['female'],axis=1,inplace=True)\n",
    "test.drop(['female'],axis=1,inplace=True)"
   ]
  },
  {
   "cell_type": "markdown",
   "id": "attractive-regard",
   "metadata": {},
   "source": [
    "### 2. Pclass"
   ]
  },
  {
   "cell_type": "markdown",
   "id": "progressive-remedy",
   "metadata": {},
   "source": [
    "#### Pclass는 티켓 등급이다."
   ]
  },
  {
   "cell_type": "code",
   "execution_count": 12,
   "id": "supreme-illinois",
   "metadata": {},
   "outputs": [
    {
     "data": {
      "text/plain": [
       "<AxesSubplot:xlabel='Pclass', ylabel='count'>"
      ]
     },
     "execution_count": 12,
     "metadata": {},
     "output_type": "execute_result"
    },
    {
     "data": {
      "image/png": "[encoded data removed]",
      "text/plain": [
       "<Figure size 720x432 with 1 Axes>"
      ]
     },
     "metadata": {},
     "output_type": "display_data"
    }
   ],
   "source": [
    "plt.figure(figsize=(10, 6))\n",
    "sns.set_style('whitegrid')\n",
    "sns.countplot(x = 'Pclass',hue='Survived',data=train,palette='rainbow')"
   ]
  },
  {
   "cell_type": "markdown",
   "id": "painted-defendant",
   "metadata": {},
   "source": [
    "#### 1등급 승객의 사망 확률은 생존 확률보다 낮다. 반면에 3등급 승객의 사망 확률은 생존 확률보다 압도적으로 높다."
   ]
  },
  {
   "cell_type": "markdown",
   "id": "dirty-decline",
   "metadata": {},
   "source": [
    "### 3. Name"
   ]
  },
  {
   "cell_type": "markdown",
   "id": "cubic-young",
   "metadata": {},
   "source": [
    "#### Name변수는 Title이라는 중요한 정보를 제공한다. Title에는 성별은 물론 나이와 관련된 정보도 있기 때문이다. 우선 Name에서 Title을 추출해보자."
   ]
  },
  {
   "cell_type": "code",
   "execution_count": 13,
   "id": "amended-helena",
   "metadata": {},
   "outputs": [
    {
     "name": "stdout",
     "output_type": "stream",
     "text": [
      "train:\n",
      "Mr          517\n",
      "Miss        182\n",
      "Mrs         125\n",
      "Master       40\n",
      "Dr            7\n",
      "Rev           6\n",
      "Mlle          2\n",
      "Col           2\n",
      "Major         2\n",
      "Don           1\n",
      "Jonkheer      1\n",
      "Ms            1\n",
      "Mme           1\n",
      "Sir           1\n",
      "Lady          1\n",
      "Countess      1\n",
      "Capt          1\n",
      "Name: Title, dtype: int64\n",
      "\n",
      "test:\n",
      "Mr        240\n",
      "Miss       78\n",
      "Mrs        72\n",
      "Master     21\n",
      "Rev         2\n",
      "Col         2\n",
      "Ms          1\n",
      "Dr          1\n",
      "Dona        1\n",
      "Name: Title, dtype: int64\n"
     ]
    }
   ],
   "source": [
    "#이름에서 칭호를 분리하기\n",
    "train['Title'] = train['Name'].str.extract(' ([A-Za-z]+)\\.', expand=False)\n",
    "test['Title'] = test['Name'].str.extract(' ([A-Za-z]+)\\.', expand=False)\n",
    "    \n",
    "print('train:',train['Title'].value_counts(), '\\ntest:',test['Title'].value_counts(), sep='\\n')"
   ]
  },
  {
   "cell_type": "markdown",
   "id": "musical-practitioner",
   "metadata": {},
   "source": [
    "#### Title들을 정리해보자  \n",
    "Mr는 일반 성인 남성  /  Master는 18세 미만 남성  /  Mrs는 기혼 여성  /  Miss는 미혼 여성  /  Dr는 박사학위를 딴 사람이다.  /  Rev는 신부님이나 목사님을 칭한다.  /  Major는 군대에서 쓰는 계급이다.  /  Col도 마찬가지로 군대에서 쓰는 계급이다.  /  Mlle은 mademoiselle을 뜻하며 이는 Miss의 프랑스어 버전이다.  /  Ms는 여성을 뜻하나 Miss와 Mrs처럼 혼인여부를 알려주지 않는다.  /  Don은 주로 라틴어계쪽에서 쓰이는 권위있는 남성의 존칭이다.  /  Dona는 여성의 존칭이다.  /  Sir는 기사작위를 받은 남성을 뜻한다.  /  Lady는 영국에서는 귀족 여성에게 주어진 칭호이다.  /  Mme는 madame을 뜻하며 이는 Mrs의 프랑스어 버전이다.  /  Capt는 선장을 뜻한다.  /  Countess는 백작 부인을 뜻한다.  /  Jonkheer는 귀족 내에서 가장 낮은 직급이다.  \n",
    "  \n",
    "여기서 Title의 모든 원소를 사용하는 것은 매우 비효율적으로 보인다. 왜냐하면 몇몇 칭호들은 극소수들만이 갖고 있기 때문이다. 따라서 이들 중 몇 개는 묶어줄 필요가 있어 보인다. 그 기준을 우선 성별로 나누어주는 것이 가장 효과적으로 보인다. 왜냐하면 성별에 따른 생존 가능성이 확연히 다르기 때문이다. 그리고 Master는 나이에 대한 정보를 주기 때문에 남겨둔다.  \n",
    "    \n",
    "그래서 Ms(Miss, Mrs, Mlle, Mme), Rare(귀족이나 희귀:'Lady'희 'Countess', 'Capt', 'Col', 'Don', 'Dr', 'Major', 'Rev', 'Sir', 'Jonkheer', 'Dona')라는 새로운 category를 만든다.  \n",
    "    \n",
    "#### 결론적으로 Master, Ms, Mr, Rare로 묶어줄 것이다."
   ]
  },
  {
   "cell_type": "code",
   "execution_count": 14,
   "id": "comparative-religion",
   "metadata": {},
   "outputs": [],
   "source": [
    "# Master: 0, Ms: 1, Mr: 2, Rare: 3\n",
    "\n",
    "title_mapping = {\"Mr\": 2, \"Miss\": 1, \"Mrs\": 1, \n",
    "                 \"Master\": 0, \"Dr\": 3, \"Rev\": 3, \"Col\": 3, \"Major\": 3, \"Mlle\": 1,\"Countess\": 3,\n",
    "                 \"Ms\": 1, \"Lady\": 3, \"Jonkheer\": 3, \"Don\": 3, \"Dona\" : 3, \"Mme\": 1,\"Capt\": 3,\"Sir\": 3}\n",
    "\n",
    "train['Title'] = train['Title'].map(title_mapping)\n",
    "test['Title'] = test['Title'].map(title_mapping)"
   ]
  },
  {
   "cell_type": "code",
   "execution_count": 15,
   "id": "monthly-trustee",
   "metadata": {},
   "outputs": [
    {
     "data": {
      "text/plain": [
       "<AxesSubplot:xlabel='Title', ylabel='count'>"
      ]
     },
     "execution_count": 15,
     "metadata": {},
     "output_type": "execute_result"
    },
    {
     "data": {
      "image/png": "[encoded data removed]",
      "text/plain": [
       "<Figure size 720x432 with 1 Axes>"
      ]
     },
     "metadata": {},
     "output_type": "display_data"
    }
   ],
   "source": [
    "plt.figure(figsize=(10, 6))\n",
    "sns.set_style('whitegrid')\n",
    "sns.countplot(x = 'Title',hue='Survived',data=train,palette='rainbow')"
   ]
  },
  {
   "cell_type": "markdown",
   "id": "juvenile-citation",
   "metadata": {},
   "source": [
    "#### Title이 Mr인 승객의 사망 확률이 압도적으로 높다. Title이 Ms인 승객은 생존 확률이 더 높다."
   ]
  },
  {
   "cell_type": "markdown",
   "id": "referenced-geometry",
   "metadata": {},
   "source": [
    "#### 이제 Name은 필요가 없어 보이므로 빼주려고 한다."
   ]
  },
  {
   "cell_type": "code",
   "execution_count": 16,
   "id": "heavy-determination",
   "metadata": {},
   "outputs": [],
   "source": [
    "train = train.drop(['Name'], axis = 1)\n",
    "test = test.drop(['Name'], axis = 1)"
   ]
  },
  {
   "cell_type": "markdown",
   "id": "hydraulic-needle",
   "metadata": {},
   "source": [
    "### 4. Age"
   ]
  },
  {
   "cell_type": "markdown",
   "id": "regulated-feelings",
   "metadata": {},
   "source": [
    "#### Age 변수는 결측값이 많았다."
   ]
  },
  {
   "cell_type": "code",
   "execution_count": 17,
   "id": "overall-dependence",
   "metadata": {},
   "outputs": [
    {
     "data": {
      "text/plain": [
       "count    714.000000\n",
       "mean      29.699118\n",
       "std       14.526497\n",
       "min        0.420000\n",
       "25%       20.125000\n",
       "50%       28.000000\n",
       "75%       38.000000\n",
       "max       80.000000\n",
       "Name: Age, dtype: float64"
      ]
     },
     "execution_count": 17,
     "metadata": {},
     "output_type": "execute_result"
    }
   ],
   "source": [
    "train['Age'].describe()"
   ]
  },
  {
   "cell_type": "markdown",
   "id": "killing-deposit",
   "metadata": {},
   "source": [
    "#### 결측값을 위 표에서 Age의 median인 50%의 값을 넣어주려고 한다."
   ]
  },
  {
   "cell_type": "code",
   "execution_count": 18,
   "id": "latest-ebony",
   "metadata": {},
   "outputs": [],
   "source": [
    "train[\"Age\"].fillna(train['Age'].describe().loc[['50%']][0], inplace = True) \n",
    "test[\"Age\"].fillna(test['Age'].describe().loc[['50%']][0], inplace = True) "
   ]
  },
  {
   "cell_type": "code",
   "execution_count": 19,
   "id": "gorgeous-disease",
   "metadata": {},
   "outputs": [
    {
     "name": "stdout",
     "output_type": "stream",
     "text": [
      "Survived      0\n",
      "Pclass        0\n",
      "Age           0\n",
      "SibSp         0\n",
      "Parch         0\n",
      "Ticket        0\n",
      "Fare          0\n",
      "Cabin       687\n",
      "Embarked      2\n",
      "male          0\n",
      "Title         0\n",
      "dtype: int64\n",
      "Pclass        0\n",
      "Age           0\n",
      "SibSp         0\n",
      "Parch         0\n",
      "Ticket        0\n",
      "Fare          1\n",
      "Cabin       327\n",
      "Embarked      0\n",
      "male          0\n",
      "Title         0\n",
      "dtype: int64\n"
     ]
    }
   ],
   "source": [
    "# 잘 채워졌는지 확인\n",
    "print(train.isnull().sum(), test.isnull().sum(),sep='\\n')"
   ]
  },
  {
   "cell_type": "code",
   "execution_count": 20,
   "id": "honest-drunk",
   "metadata": {},
   "outputs": [
    {
     "data": {
      "image/png": "[encoded data removed]",
      "text/plain": [
       "<Figure size 911x216 with 1 Axes>"
      ]
     },
     "metadata": {},
     "output_type": "display_data"
    }
   ],
   "source": [
    "facet = sns.FacetGrid(train, hue='Survived',aspect=4)\n",
    "facet.map(sns.kdeplot,'Age',shade= True)\n",
    "facet.set(xlim=(0, train['Age'].max()))\n",
    "facet.add_legend()\n",
    "plt.show()"
   ]
  },
  {
   "cell_type": "markdown",
   "id": "selected-joshua",
   "metadata": {},
   "source": [
    "#### 이 그래프를 보면 나이에 따라서 사망률이 더 높은 구간도 있고 더 낮은 구간도 있는 것을 볼 수 있다."
   ]
  },
  {
   "cell_type": "markdown",
   "id": "running-comfort",
   "metadata": {},
   "source": [
    "### 5. Fare"
   ]
  },
  {
   "cell_type": "markdown",
   "id": "nominated-referral",
   "metadata": {},
   "source": [
    "#### Fare는 Test 데이터셋에서만 결측값이 있었다. Fare도 마찬가지로 median값을 넣어주려고 한다."
   ]
  },
  {
   "cell_type": "code",
   "execution_count": 21,
   "id": "numerous-maximum",
   "metadata": {},
   "outputs": [
    {
     "data": {
      "text/plain": [
       "count    417.000000\n",
       "mean      35.627188\n",
       "std       55.907576\n",
       "min        0.000000\n",
       "25%        7.895800\n",
       "50%       14.454200\n",
       "75%       31.500000\n",
       "max      512.329200\n",
       "Name: Fare, dtype: float64"
      ]
     },
     "execution_count": 21,
     "metadata": {},
     "output_type": "execute_result"
    }
   ],
   "source": [
    "test['Fare'].describe()"
   ]
  },
  {
   "cell_type": "code",
   "execution_count": 22,
   "id": "obvious-chair",
   "metadata": {},
   "outputs": [],
   "source": [
    "test[\"Fare\"].fillna(test['Fare'].describe().loc[['50%']][0], inplace = True) "
   ]
  },
  {
   "cell_type": "code",
   "execution_count": 23,
   "id": "dutch-taylor",
   "metadata": {},
   "outputs": [
    {
     "name": "stdout",
     "output_type": "stream",
     "text": [
      "Pclass        0\n",
      "Age           0\n",
      "SibSp         0\n",
      "Parch         0\n",
      "Ticket        0\n",
      "Fare          0\n",
      "Cabin       327\n",
      "Embarked      0\n",
      "male          0\n",
      "Title         0\n",
      "dtype: int64\n"
     ]
    }
   ],
   "source": [
    "# 잘 채워졌는지 확인\n",
    "print(test.isnull().sum())"
   ]
  },
  {
   "cell_type": "code",
   "execution_count": 24,
   "id": "comic-bottom",
   "metadata": {},
   "outputs": [
    {
     "data": {
      "image/png": "[encoded data removed]",
      "text/plain": [
       "<Figure size 911x216 with 1 Axes>"
      ]
     },
     "metadata": {},
     "output_type": "display_data"
    }
   ],
   "source": [
    "facet = sns.FacetGrid(train, hue='Survived',aspect=4)\n",
    "facet.map(sns.kdeplot,'Fare',shade= True)\n",
    "facet.set(xlim=(0, train['Fare'].max()))\n",
    "facet.add_legend()\n",
    "plt.show()"
   ]
  },
  {
   "cell_type": "markdown",
   "id": "proprietary-ethiopia",
   "metadata": {},
   "source": [
    "#### Fare에 따라 사망률이 변하는 것을 볼 수 있다."
   ]
  },
  {
   "cell_type": "markdown",
   "id": "geographic-minute",
   "metadata": {},
   "source": [
    "### 6. Embarked"
   ]
  },
  {
   "cell_type": "markdown",
   "id": "cross-pipeline",
   "metadata": {},
   "source": [
    "#### Embarked 변수는 승객이 어느 항구에서 배를 탔는지를 알려주며 C = Cherbourg, Q = Queenstown, S = Southampton 가 있다."
   ]
  },
  {
   "cell_type": "code",
   "execution_count": 25,
   "id": "saving-designer",
   "metadata": {},
   "outputs": [
    {
     "data": {
      "text/plain": [
       "<AxesSubplot:xlabel='Embarked', ylabel='count'>"
      ]
     },
     "execution_count": 25,
     "metadata": {},
     "output_type": "execute_result"
    },
    {
     "data": {
      "image/png": "[encoded data removed]",
      "text/plain": [
       "<Figure size 720x432 with 1 Axes>"
      ]
     },
     "metadata": {},
     "output_type": "display_data"
    }
   ],
   "source": [
    "plt.figure(figsize=(10, 6))\n",
    "sns.set_style('whitegrid')\n",
    "sns.countplot(x = 'Embarked',hue='Survived',data=train_data, palette = 'rainbow')"
   ]
  },
  {
   "cell_type": "markdown",
   "id": "aggressive-meter",
   "metadata": {},
   "source": [
    "#### Southampton에서 탄 승객들의 사망률이 매우 높다. 반면에 Cherbourg에서 탄 승객들의 사망률은 생존률보다 낮다."
   ]
  },
  {
   "cell_type": "markdown",
   "id": "aggregate-geology",
   "metadata": {},
   "source": [
    "#### Embarked도 마찬가지로 결측값이 있다. 하지만 승객이 어느 항구에서 탔을 지 유추해볼 만한 정보가 별로 없으므로 가장 빈도수가 높은 'S'로 결측값을 채워주려고 한다."
   ]
  },
  {
   "cell_type": "code",
   "execution_count": 26,
   "id": "acoustic-words",
   "metadata": {},
   "outputs": [],
   "source": [
    "train[\"Embarked\"].fillna(\"S\", inplace = True) \n",
    "test[\"Embarked\"].fillna(\"S\", inplace = True) "
   ]
  },
  {
   "cell_type": "markdown",
   "id": "selected-filter",
   "metadata": {},
   "source": [
    "#### Embarked는 categorical 변수로 numerical 변수로 바꿔줄 필요가 있다."
   ]
  },
  {
   "cell_type": "code",
   "execution_count": 27,
   "id": "major-overall",
   "metadata": {},
   "outputs": [],
   "source": [
    "embark_train = pd.get_dummies(train['Embarked'])\n",
    "embark_test = pd.get_dummies(test['Embarked'])\n",
    "\n",
    "train.drop('Embarked',axis=1,inplace=True)\n",
    "test.drop('Embarked',axis=1,inplace=True)\n",
    "\n",
    "train = pd.concat([train,embark_train],axis=1)\n",
    "test = pd.concat([test,embark_test],axis=1)"
   ]
  },
  {
   "cell_type": "markdown",
   "id": "found-leisure",
   "metadata": {},
   "source": [
    "### 7. SibSp & Parch"
   ]
  },
  {
   "cell_type": "markdown",
   "id": "existing-landing",
   "metadata": {},
   "source": [
    "#### SibSp는 승객의 siblings와 spouse의 수를 나타낸다.  \n",
    "#### Parch는 승객의 parents와 children의 수를 나타낸다."
   ]
  },
  {
   "cell_type": "code",
   "execution_count": 28,
   "id": "leading-career",
   "metadata": {},
   "outputs": [
    {
     "data": {
      "image/png": "[encoded data removed]",
      "text/plain": [
       "<Figure size 720x432 with 1 Axes>"
      ]
     },
     "metadata": {},
     "output_type": "display_data"
    },
    {
     "data": {
      "image/png": "[encoded data removed]",
      "text/plain": [
       "<Figure size 720x432 with 1 Axes>"
      ]
     },
     "metadata": {},
     "output_type": "display_data"
    }
   ],
   "source": [
    "plt.figure(figsize=(10, 6))\n",
    "sns.countplot(x='Survived', hue='SibSp', data=train, palette = 'rainbow')\n",
    "\n",
    "plt.figure(figsize=(10, 6))\n",
    "sns.countplot(x='Survived', hue='Parch', data=train, palette = 'rainbow')\n",
    "\n",
    "plt.show()"
   ]
  },
  {
   "cell_type": "markdown",
   "id": "cognitive-browse",
   "metadata": {},
   "source": [
    "#### 위 그래프들을 보면 승객이 혼자인 경우 사망률이 매우 높은 것을 볼 수 있다."
   ]
  },
  {
   "cell_type": "markdown",
   "id": "prepared-drunk",
   "metadata": {},
   "source": [
    "#### SibSp와 Parch를 통해 승객의 같이 탑승한 가족의 수라는 새로운 변수를 만들 수 있다. 그리고 이 수가 만약 0이면 혼자 탔다는 것을 의미한다."
   ]
  },
  {
   "cell_type": "code",
   "execution_count": 29,
   "id": "eligible-fireplace",
   "metadata": {},
   "outputs": [],
   "source": [
    "def family(x):\n",
    "    if  (x['SibSp'] + x['Parch'])  > 0:\n",
    "        return 1\n",
    "    else:\n",
    "        return 0\n",
    "\n",
    "train['Family_Size'] = train.apply(family, axis = 1)\n",
    "test['Family_Size'] = test.apply(family, axis = 1)"
   ]
  },
  {
   "cell_type": "markdown",
   "id": "alternate-excess",
   "metadata": {},
   "source": [
    "#### Family_Size라는 변수를 만듦으로써 SibSp와 Parch는 redundant한 정보이므로 이들을 빼준다."
   ]
  },
  {
   "cell_type": "code",
   "execution_count": 30,
   "id": "inappropriate-electricity",
   "metadata": {},
   "outputs": [],
   "source": [
    "train = train.drop(['SibSp','Parch'],axis=1)\n",
    "test = test.drop(['SibSp','Parch'],axis=1)"
   ]
  },
  {
   "cell_type": "code",
   "execution_count": 31,
   "id": "outside-notion",
   "metadata": {},
   "outputs": [
    {
     "data": {
      "text/plain": [
       "<matplotlib.legend.Legend at 0x7f97e897f3d0>"
      ]
     },
     "execution_count": 31,
     "metadata": {},
     "output_type": "execute_result"
    },
    {
     "data": {
      "image/png": "[encoded data removed]",
      "text/plain": [
       "<Figure size 720x432 with 1 Axes>"
      ]
     },
     "metadata": {},
     "output_type": "display_data"
    }
   ],
   "source": [
    "plt.figure(figsize=(10, 6))\n",
    "sns.set_style('whitegrid')\n",
    "sns.countplot(x = 'Family_Size',hue='Survived',data=train, palette='rainbow')\n",
    "plt.legend(('Not Survived','Survived'))"
   ]
  },
  {
   "cell_type": "markdown",
   "id": "vanilla-question",
   "metadata": {},
   "source": [
    "#### 이 그래프가 혼자 탑승한 승객의 사망률을 더 명확하게 보여준다."
   ]
  },
  {
   "cell_type": "markdown",
   "id": "broken-magnet",
   "metadata": {},
   "source": [
    "### 8. Cabin"
   ]
  },
  {
   "cell_type": "markdown",
   "id": "dominant-criminal",
   "metadata": {},
   "source": [
    "#### Cabin은 결측치가 너무 많아서 이들을 어떻게 유추해줘야 할지 모르겠어서 빼려고 한다."
   ]
  },
  {
   "cell_type": "code",
   "execution_count": 32,
   "id": "injured-rough",
   "metadata": {},
   "outputs": [],
   "source": [
    "train = train.drop(['Cabin'], axis = 1)\n",
    "test = test.drop(['Cabin'], axis = 1)"
   ]
  },
  {
   "cell_type": "code",
   "execution_count": 33,
   "id": "annual-landing",
   "metadata": {},
   "outputs": [
    {
     "data": {
      "text/html": [
       "<div>\n",
       "<style scoped>\n",
       "    .dataframe tbody tr th:only-of-type {\n",
       "        vertical-align: middle;\n",
       "    }\n",
       "\n",
       "    .dataframe tbody tr th {\n",
       "        vertical-align: top;\n",
       "    }\n",
       "\n",
       "    .dataframe thead th {\n",
       "        text-align: right;\n",
       "    }\n",
       "</style>\n",
       "<table border=\"1\" class=\"dataframe\">\n",
       "  <thead>\n",
       "    <tr style=\"text-align: right;\">\n",
       "      <th></th>\n",
       "      <th>Survived</th>\n",
       "      <th>Pclass</th>\n",
       "      <th>Age</th>\n",
       "      <th>Ticket</th>\n",
       "      <th>Fare</th>\n",
       "      <th>male</th>\n",
       "      <th>Title</th>\n",
       "      <th>C</th>\n",
       "      <th>Q</th>\n",
       "      <th>S</th>\n",
       "      <th>Family_Size</th>\n",
       "    </tr>\n",
       "  </thead>\n",
       "  <tbody>\n",
       "    <tr>\n",
       "      <th>0</th>\n",
       "      <td>0</td>\n",
       "      <td>3</td>\n",
       "      <td>22.0</td>\n",
       "      <td>A/5 21171</td>\n",
       "      <td>7.2500</td>\n",
       "      <td>1</td>\n",
       "      <td>2</td>\n",
       "      <td>0</td>\n",
       "      <td>0</td>\n",
       "      <td>1</td>\n",
       "      <td>1</td>\n",
       "    </tr>\n",
       "    <tr>\n",
       "      <th>1</th>\n",
       "      <td>1</td>\n",
       "      <td>1</td>\n",
       "      <td>38.0</td>\n",
       "      <td>PC 17599</td>\n",
       "      <td>71.2833</td>\n",
       "      <td>0</td>\n",
       "      <td>1</td>\n",
       "      <td>1</td>\n",
       "      <td>0</td>\n",
       "      <td>0</td>\n",
       "      <td>1</td>\n",
       "    </tr>\n",
       "    <tr>\n",
       "      <th>2</th>\n",
       "      <td>1</td>\n",
       "      <td>3</td>\n",
       "      <td>26.0</td>\n",
       "      <td>STON/O2. 3101282</td>\n",
       "      <td>7.9250</td>\n",
       "      <td>0</td>\n",
       "      <td>1</td>\n",
       "      <td>0</td>\n",
       "      <td>0</td>\n",
       "      <td>1</td>\n",
       "      <td>0</td>\n",
       "    </tr>\n",
       "    <tr>\n",
       "      <th>3</th>\n",
       "      <td>1</td>\n",
       "      <td>1</td>\n",
       "      <td>35.0</td>\n",
       "      <td>113803</td>\n",
       "      <td>53.1000</td>\n",
       "      <td>0</td>\n",
       "      <td>1</td>\n",
       "      <td>0</td>\n",
       "      <td>0</td>\n",
       "      <td>1</td>\n",
       "      <td>1</td>\n",
       "    </tr>\n",
       "    <tr>\n",
       "      <th>4</th>\n",
       "      <td>0</td>\n",
       "      <td>3</td>\n",
       "      <td>35.0</td>\n",
       "      <td>373450</td>\n",
       "      <td>8.0500</td>\n",
       "      <td>1</td>\n",
       "      <td>2</td>\n",
       "      <td>0</td>\n",
       "      <td>0</td>\n",
       "      <td>1</td>\n",
       "      <td>0</td>\n",
       "    </tr>\n",
       "  </tbody>\n",
       "</table>\n",
       "</div>"
      ],
      "text/plain": [
       "   Survived  Pclass   Age            Ticket     Fare  male  Title  C  Q  S  \\\n",
       "0         0       3  22.0         A/5 21171   7.2500     1      2  0  0  1   \n",
       "1         1       1  38.0          PC 17599  71.2833     0      1  1  0  0   \n",
       "2         1       3  26.0  STON/O2. 3101282   7.9250     0      1  0  0  1   \n",
       "3         1       1  35.0            113803  53.1000     0      1  0  0  1   \n",
       "4         0       3  35.0            373450   8.0500     1      2  0  0  1   \n",
       "\n",
       "   Family_Size  \n",
       "0            1  \n",
       "1            1  \n",
       "2            0  \n",
       "3            1  \n",
       "4            0  "
      ]
     },
     "execution_count": 33,
     "metadata": {},
     "output_type": "execute_result"
    }
   ],
   "source": [
    "train.head()"
   ]
  },
  {
   "cell_type": "markdown",
   "id": "necessary-leone",
   "metadata": {},
   "source": [
    "### 9. Ticket"
   ]
  },
  {
   "cell_type": "markdown",
   "id": "further-craps",
   "metadata": {},
   "source": [
    "#### 이 파트는 [Titanic - Top 4% , Hyperparameter Tuning](https://www.kaggle.com/tanmayunhale/titanic-top-4-hyperparameter-tuning) 이분의 코딩을 전적으로 따랐다."
   ]
  },
  {
   "cell_type": "markdown",
   "id": "introductory-threat",
   "metadata": {},
   "source": [
    "#### Ticket을 보면 Ticket Prefix와 Ticket Number로 나눌 수 있다. 여기서 Ticket Prefix를 추출할 것이다."
   ]
  },
  {
   "cell_type": "code",
   "execution_count": 34,
   "id": "lesser-nelson",
   "metadata": {},
   "outputs": [],
   "source": [
    "Ticket_train = []\n",
    "for i in list(train.Ticket):\n",
    "    if not i.isdigit() :\n",
    "        Ticket_train.append(i.replace(\".\",\"\").replace(\"/\",\"\").strip().split(' ')[0]) #Ticket Prefix 추출\n",
    "    else:\n",
    "        Ticket_train.append(\"X\")\n",
    "train[\"Ticket\"] = Ticket_train\n",
    "\n",
    "Ticket_test = []\n",
    "for j in list(test.Ticket):\n",
    "    if not j.isdigit() :\n",
    "        Ticket_test.append(j.replace(\".\",\"\").replace(\"/\",\"\").strip().split(' ')[0]) #Ticket Prefix 추출\n",
    "    else:\n",
    "        Ticket_test.append(\"X\")\n",
    "test[\"Ticket\"] = Ticket_test"
   ]
  },
  {
   "cell_type": "code",
   "execution_count": 35,
   "id": "yellow-bundle",
   "metadata": {},
   "outputs": [
    {
     "data": {
      "text/plain": [
       "array(['A5', 'PC', 'STONO2', 'X', 'PP', 'CA', 'SCParis', 'SCA4', 'A4',\n",
       "       'SP', 'SOC', 'WC', 'SOTONOQ', 'WEP', 'STONO', 'C', 'SCPARIS',\n",
       "       'SOP', 'Fa', 'LINE', 'FCC', 'SWPP', 'SCOW', 'PPP', 'SC', 'SCAH',\n",
       "       'AS', 'SOPP', 'FC', 'SOTONO2', 'CASOTON'], dtype=object)"
      ]
     },
     "execution_count": 35,
     "metadata": {},
     "output_type": "execute_result"
    }
   ],
   "source": [
    "train[\"Ticket\"].unique()"
   ]
  },
  {
   "cell_type": "code",
   "execution_count": 36,
   "id": "animated-kazakhstan",
   "metadata": {},
   "outputs": [
    {
     "data": {
      "text/plain": [
       "array(['X', 'A4', 'WEP', 'SCPARIS', 'STONO2', 'PC', 'C', 'A5', 'SCAH',\n",
       "       'CA', 'WC', 'SOTONOQ', 'STONO', 'SCA3', 'FCC', 'FC', 'PP',\n",
       "       'STONOQ', 'SCA4', 'SOPP', 'SOC', 'SOTONO2', 'AQ4', 'A', 'SC',\n",
       "       'SCParis', 'LP', 'AQ3'], dtype=object)"
      ]
     },
     "execution_count": 36,
     "metadata": {},
     "output_type": "execute_result"
    }
   ],
   "source": [
    "test[\"Ticket\"].unique()"
   ]
  },
  {
   "cell_type": "markdown",
   "id": "sweet-shade",
   "metadata": {},
   "source": [
    "#### 여기서 문제는 train과 test셋이 몇몇의 서로 다른 Ticket Prefix를 가지고 있다."
   ]
  },
  {
   "cell_type": "code",
   "execution_count": 37,
   "id": "collectible-turkish",
   "metadata": {},
   "outputs": [
    {
     "data": {
      "text/plain": [
       "array(['A', 'A4', 'A5', 'AQ3', 'AQ4', 'AS', 'C', 'CA', 'CASOTON', 'FC',\n",
       "       'FCC', 'Fa', 'LINE', 'LP', 'PC', 'PP', 'PPP', 'SC', 'SCA3', 'SCA4',\n",
       "       'SCAH', 'SCOW', 'SCPARIS', 'SCParis', 'SOC', 'SOP', 'SOPP',\n",
       "       'SOTONO2', 'SOTONOQ', 'SP', 'STONO', 'STONO2', 'STONOQ', 'SWPP',\n",
       "       'WC', 'WEP', 'X'], dtype=object)"
      ]
     },
     "execution_count": 37,
     "metadata": {},
     "output_type": "execute_result"
    }
   ],
   "source": [
    " np.union1d(train[\"Ticket\"], test[\"Ticket\"])"
   ]
  },
  {
   "cell_type": "markdown",
   "id": "abstract-liechtenstein",
   "metadata": {},
   "source": [
    "#### 이것들이 두 셋에서 공유하는 Ticket Prefix들이다."
   ]
  },
  {
   "cell_type": "code",
   "execution_count": 38,
   "id": "blank-corps",
   "metadata": {},
   "outputs": [],
   "source": [
    "train= pd.get_dummies(train, columns = [\"Ticket\"], prefix=\"T\")\n",
    "test = pd.get_dummies(test, columns = [\"Ticket\"], prefix=\"T\")"
   ]
  },
  {
   "cell_type": "markdown",
   "id": "everyday-necklace",
   "metadata": {},
   "source": [
    "#### 이 두 셋들은 열의 수가 같아야하기 때문에 같이 공유하지 않는 Ticket Prefix들은 빼주려고 한다."
   ]
  },
  {
   "cell_type": "code",
   "execution_count": 39,
   "id": "agreed-crisis",
   "metadata": {},
   "outputs": [],
   "source": [
    "train = train.drop(['T_SP','T_SOP','T_Fa','T_LINE','T_SWPP','T_SCOW','T_PPP','T_AS','T_CASOTON'],axis = 1)\n",
    "test = test.drop(['T_SCA3','T_STONOQ','T_AQ4','T_A','T_LP','T_AQ3'],axis = 1)"
   ]
  },
  {
   "cell_type": "code",
   "execution_count": 40,
   "id": "third-bankruptcy",
   "metadata": {},
   "outputs": [],
   "source": [
    "train.drop('Survived',axis=1,inplace=True)"
   ]
  },
  {
   "cell_type": "markdown",
   "id": "cultural-piece",
   "metadata": {},
   "source": [
    "#### Data Preprocessing 단계를 마치고 난 후의 train 데이터셋"
   ]
  },
  {
   "cell_type": "code",
   "execution_count": 41,
   "id": "nonprofit-forest",
   "metadata": {},
   "outputs": [
    {
     "data": {
      "text/html": [
       "<div>\n",
       "<style scoped>\n",
       "    .dataframe tbody tr th:only-of-type {\n",
       "        vertical-align: middle;\n",
       "    }\n",
       "\n",
       "    .dataframe tbody tr th {\n",
       "        vertical-align: top;\n",
       "    }\n",
       "\n",
       "    .dataframe thead th {\n",
       "        text-align: right;\n",
       "    }\n",
       "</style>\n",
       "<table border=\"1\" class=\"dataframe\">\n",
       "  <thead>\n",
       "    <tr style=\"text-align: right;\">\n",
       "      <th></th>\n",
       "      <th>Pclass</th>\n",
       "      <th>Age</th>\n",
       "      <th>Fare</th>\n",
       "      <th>male</th>\n",
       "      <th>Title</th>\n",
       "      <th>C</th>\n",
       "      <th>Q</th>\n",
       "      <th>S</th>\n",
       "      <th>Family_Size</th>\n",
       "      <th>T_A4</th>\n",
       "      <th>...</th>\n",
       "      <th>T_SCParis</th>\n",
       "      <th>T_SOC</th>\n",
       "      <th>T_SOPP</th>\n",
       "      <th>T_SOTONO2</th>\n",
       "      <th>T_SOTONOQ</th>\n",
       "      <th>T_STONO</th>\n",
       "      <th>T_STONO2</th>\n",
       "      <th>T_WC</th>\n",
       "      <th>T_WEP</th>\n",
       "      <th>T_X</th>\n",
       "    </tr>\n",
       "  </thead>\n",
       "  <tbody>\n",
       "    <tr>\n",
       "      <th>0</th>\n",
       "      <td>3</td>\n",
       "      <td>22.0</td>\n",
       "      <td>7.2500</td>\n",
       "      <td>1</td>\n",
       "      <td>2</td>\n",
       "      <td>0</td>\n",
       "      <td>0</td>\n",
       "      <td>1</td>\n",
       "      <td>1</td>\n",
       "      <td>0</td>\n",
       "      <td>...</td>\n",
       "      <td>0</td>\n",
       "      <td>0</td>\n",
       "      <td>0</td>\n",
       "      <td>0</td>\n",
       "      <td>0</td>\n",
       "      <td>0</td>\n",
       "      <td>0</td>\n",
       "      <td>0</td>\n",
       "      <td>0</td>\n",
       "      <td>0</td>\n",
       "    </tr>\n",
       "    <tr>\n",
       "      <th>1</th>\n",
       "      <td>1</td>\n",
       "      <td>38.0</td>\n",
       "      <td>71.2833</td>\n",
       "      <td>0</td>\n",
       "      <td>1</td>\n",
       "      <td>1</td>\n",
       "      <td>0</td>\n",
       "      <td>0</td>\n",
       "      <td>1</td>\n",
       "      <td>0</td>\n",
       "      <td>...</td>\n",
       "      <td>0</td>\n",
       "      <td>0</td>\n",
       "      <td>0</td>\n",
       "      <td>0</td>\n",
       "      <td>0</td>\n",
       "      <td>0</td>\n",
       "      <td>0</td>\n",
       "      <td>0</td>\n",
       "      <td>0</td>\n",
       "      <td>0</td>\n",
       "    </tr>\n",
       "    <tr>\n",
       "      <th>2</th>\n",
       "      <td>3</td>\n",
       "      <td>26.0</td>\n",
       "      <td>7.9250</td>\n",
       "      <td>0</td>\n",
       "      <td>1</td>\n",
       "      <td>0</td>\n",
       "      <td>0</td>\n",
       "      <td>1</td>\n",
       "      <td>0</td>\n",
       "      <td>0</td>\n",
       "      <td>...</td>\n",
       "      <td>0</td>\n",
       "      <td>0</td>\n",
       "      <td>0</td>\n",
       "      <td>0</td>\n",
       "      <td>0</td>\n",
       "      <td>0</td>\n",
       "      <td>1</td>\n",
       "      <td>0</td>\n",
       "      <td>0</td>\n",
       "      <td>0</td>\n",
       "    </tr>\n",
       "    <tr>\n",
       "      <th>3</th>\n",
       "      <td>1</td>\n",
       "      <td>35.0</td>\n",
       "      <td>53.1000</td>\n",
       "      <td>0</td>\n",
       "      <td>1</td>\n",
       "      <td>0</td>\n",
       "      <td>0</td>\n",
       "      <td>1</td>\n",
       "      <td>1</td>\n",
       "      <td>0</td>\n",
       "      <td>...</td>\n",
       "      <td>0</td>\n",
       "      <td>0</td>\n",
       "      <td>0</td>\n",
       "      <td>0</td>\n",
       "      <td>0</td>\n",
       "      <td>0</td>\n",
       "      <td>0</td>\n",
       "      <td>0</td>\n",
       "      <td>0</td>\n",
       "      <td>1</td>\n",
       "    </tr>\n",
       "    <tr>\n",
       "      <th>4</th>\n",
       "      <td>3</td>\n",
       "      <td>35.0</td>\n",
       "      <td>8.0500</td>\n",
       "      <td>1</td>\n",
       "      <td>2</td>\n",
       "      <td>0</td>\n",
       "      <td>0</td>\n",
       "      <td>1</td>\n",
       "      <td>0</td>\n",
       "      <td>0</td>\n",
       "      <td>...</td>\n",
       "      <td>0</td>\n",
       "      <td>0</td>\n",
       "      <td>0</td>\n",
       "      <td>0</td>\n",
       "      <td>0</td>\n",
       "      <td>0</td>\n",
       "      <td>0</td>\n",
       "      <td>0</td>\n",
       "      <td>0</td>\n",
       "      <td>1</td>\n",
       "    </tr>\n",
       "  </tbody>\n",
       "</table>\n",
       "<p>5 rows × 31 columns</p>\n",
       "</div>"
      ],
      "text/plain": [
       "   Pclass   Age     Fare  male  Title  C  Q  S  Family_Size  T_A4  ...  \\\n",
       "0       3  22.0   7.2500     1      2  0  0  1            1     0  ...   \n",
       "1       1  38.0  71.2833     0      1  1  0  0            1     0  ...   \n",
       "2       3  26.0   7.9250     0      1  0  0  1            0     0  ...   \n",
       "3       1  35.0  53.1000     0      1  0  0  1            1     0  ...   \n",
       "4       3  35.0   8.0500     1      2  0  0  1            0     0  ...   \n",
       "\n",
       "   T_SCParis  T_SOC  T_SOPP  T_SOTONO2  T_SOTONOQ  T_STONO  T_STONO2  T_WC  \\\n",
       "0          0      0       0          0          0        0         0     0   \n",
       "1          0      0       0          0          0        0         0     0   \n",
       "2          0      0       0          0          0        0         1     0   \n",
       "3          0      0       0          0          0        0         0     0   \n",
       "4          0      0       0          0          0        0         0     0   \n",
       "\n",
       "   T_WEP  T_X  \n",
       "0      0    0  \n",
       "1      0    0  \n",
       "2      0    0  \n",
       "3      0    1  \n",
       "4      0    1  \n",
       "\n",
       "[5 rows x 31 columns]"
      ]
     },
     "execution_count": 41,
     "metadata": {},
     "output_type": "execute_result"
    }
   ],
   "source": [
    "train.head()"
   ]
  },
  {
   "cell_type": "markdown",
   "id": "wicked-refrigerator",
   "metadata": {},
   "source": [
    "## _Feature Scaling_"
   ]
  },
  {
   "cell_type": "markdown",
   "id": "solved-stranger",
   "metadata": {},
   "source": [
    "#### Standardization을 통해 데이터를 scaling시킨다."
   ]
  },
  {
   "cell_type": "code",
   "execution_count": 42,
   "id": "handy-decline",
   "metadata": {},
   "outputs": [],
   "source": [
    "from sklearn.preprocessing import StandardScaler\n",
    "sc = StandardScaler()\n",
    "train_scaled = sc.fit_transform(train)\n",
    "test_scaled = sc.transform(test)"
   ]
  },
  {
   "cell_type": "markdown",
   "id": "cognitive-bunny",
   "metadata": {},
   "source": [
    "## _Modeling_"
   ]
  },
  {
   "cell_type": "markdown",
   "id": "first-coalition",
   "metadata": {},
   "source": [
    "#### 여러 classifiers를 이용해 모델을 training한 후 정확도가 가장 높은 classifier를 고르려고 한다."
   ]
  },
  {
   "cell_type": "code",
   "execution_count": 43,
   "id": "outdoor-melissa",
   "metadata": {},
   "outputs": [],
   "source": [
    "from sklearn.pipeline import Pipeline\n",
    "from sklearn import svm\n",
    "from sklearn.linear_model import LogisticRegression\n",
    "from sklearn.ensemble import RandomForestClassifier, AdaBoostClassifier\n",
    "import xgboost as xgb\n",
    "from sklearn.neighbors import KNeighborsClassifier\n",
    "from sklearn.ensemble import GradientBoostingClassifier\n",
    "from sklearn import metrics\n",
    "from sklearn.model_selection import KFold, cross_val_score\n",
    "\n",
    "KFold_Score = pd.DataFrame()\n",
    "classifiers = ['Linear SVM', 'Radial SVM', 'LogisticRegression', \n",
    "               'RandomForestClassifier', 'AdaBoostClassifier', \n",
    "               'XGBoostClassifier', 'KNeighborsClassifier','GradientBoostingClassifier']\n",
    "models = [svm.SVC(kernel='linear'),\n",
    "          svm.SVC(kernel='rbf'),\n",
    "          LogisticRegression(max_iter = 1000),\n",
    "          RandomForestClassifier(n_estimators=200, random_state=0),\n",
    "          AdaBoostClassifier(random_state = 0),\n",
    "          xgb.XGBClassifier(n_estimators=100,verbosity = 0),\n",
    "          KNeighborsClassifier(),\n",
    "          GradientBoostingClassifier(random_state=0)\n",
    "         ]\n",
    "j = 0\n",
    "for model in models:\n",
    "    cv = KFold(n_splits=5, random_state=0, shuffle=True)\n",
    "    KFold_Score[classifiers[j]] = cross_val_score(model, train, np.ravel(pred), scoring = 'accuracy', cv=cv)\n",
    "    j = j+1"
   ]
  },
  {
   "cell_type": "markdown",
   "id": "reliable-mistake",
   "metadata": {},
   "source": [
    "#### 5-겹 교차검증을 통해 구한 각 classifiers의 정확도의 평균을 내림차순으로 출력하려고 한다."
   ]
  },
  {
   "cell_type": "code",
   "execution_count": 44,
   "id": "considerable-denial",
   "metadata": {},
   "outputs": [
    {
     "data": {
      "text/html": [
       "<div>\n",
       "<style scoped>\n",
       "    .dataframe tbody tr th:only-of-type {\n",
       "        vertical-align: middle;\n",
       "    }\n",
       "\n",
       "    .dataframe tbody tr th {\n",
       "        vertical-align: top;\n",
       "    }\n",
       "\n",
       "    .dataframe thead th {\n",
       "        text-align: right;\n",
       "    }\n",
       "</style>\n",
       "<table border=\"1\" class=\"dataframe\">\n",
       "  <thead>\n",
       "    <tr style=\"text-align: right;\">\n",
       "      <th></th>\n",
       "      <th>Fold 1</th>\n",
       "      <th>Fold 2</th>\n",
       "      <th>Fold 3</th>\n",
       "      <th>Fold 4</th>\n",
       "      <th>Fold 5</th>\n",
       "      <th>Mean</th>\n",
       "    </tr>\n",
       "  </thead>\n",
       "  <tbody>\n",
       "    <tr>\n",
       "      <th>RandomForestClassifier</th>\n",
       "      <td>0.854749</td>\n",
       "      <td>0.825843</td>\n",
       "      <td>0.831461</td>\n",
       "      <td>0.831461</td>\n",
       "      <td>0.825843</td>\n",
       "      <td>0.833871</td>\n",
       "    </tr>\n",
       "    <tr>\n",
       "      <th>XGBoostClassifier</th>\n",
       "      <td>0.854749</td>\n",
       "      <td>0.792135</td>\n",
       "      <td>0.848315</td>\n",
       "      <td>0.803371</td>\n",
       "      <td>0.792135</td>\n",
       "      <td>0.818141</td>\n",
       "    </tr>\n",
       "    <tr>\n",
       "      <th>GradientBoostingClassifier</th>\n",
       "      <td>0.815642</td>\n",
       "      <td>0.797753</td>\n",
       "      <td>0.837079</td>\n",
       "      <td>0.825843</td>\n",
       "      <td>0.808989</td>\n",
       "      <td>0.817061</td>\n",
       "    </tr>\n",
       "    <tr>\n",
       "      <th>LogisticRegression</th>\n",
       "      <td>0.810056</td>\n",
       "      <td>0.792135</td>\n",
       "      <td>0.814607</td>\n",
       "      <td>0.792135</td>\n",
       "      <td>0.820225</td>\n",
       "      <td>0.805831</td>\n",
       "    </tr>\n",
       "    <tr>\n",
       "      <th>AdaBoostClassifier</th>\n",
       "      <td>0.798883</td>\n",
       "      <td>0.786517</td>\n",
       "      <td>0.803371</td>\n",
       "      <td>0.786517</td>\n",
       "      <td>0.825843</td>\n",
       "      <td>0.800226</td>\n",
       "    </tr>\n",
       "    <tr>\n",
       "      <th>Linear SVM</th>\n",
       "      <td>0.787709</td>\n",
       "      <td>0.769663</td>\n",
       "      <td>0.792135</td>\n",
       "      <td>0.786517</td>\n",
       "      <td>0.803371</td>\n",
       "      <td>0.787879</td>\n",
       "    </tr>\n",
       "    <tr>\n",
       "      <th>KNeighborsClassifier</th>\n",
       "      <td>0.759777</td>\n",
       "      <td>0.674157</td>\n",
       "      <td>0.707865</td>\n",
       "      <td>0.685393</td>\n",
       "      <td>0.702247</td>\n",
       "      <td>0.705888</td>\n",
       "    </tr>\n",
       "    <tr>\n",
       "      <th>Radial SVM</th>\n",
       "      <td>0.715084</td>\n",
       "      <td>0.634831</td>\n",
       "      <td>0.724719</td>\n",
       "      <td>0.679775</td>\n",
       "      <td>0.606742</td>\n",
       "      <td>0.672230</td>\n",
       "    </tr>\n",
       "  </tbody>\n",
       "</table>\n",
       "</div>"
      ],
      "text/plain": [
       "                              Fold 1    Fold 2    Fold 3    Fold 4    Fold 5  \\\n",
       "RandomForestClassifier      0.854749  0.825843  0.831461  0.831461  0.825843   \n",
       "XGBoostClassifier           0.854749  0.792135  0.848315  0.803371  0.792135   \n",
       "GradientBoostingClassifier  0.815642  0.797753  0.837079  0.825843  0.808989   \n",
       "LogisticRegression          0.810056  0.792135  0.814607  0.792135  0.820225   \n",
       "AdaBoostClassifier          0.798883  0.786517  0.803371  0.786517  0.825843   \n",
       "Linear SVM                  0.787709  0.769663  0.792135  0.786517  0.803371   \n",
       "KNeighborsClassifier        0.759777  0.674157  0.707865  0.685393  0.702247   \n",
       "Radial SVM                  0.715084  0.634831  0.724719  0.679775  0.606742   \n",
       "\n",
       "                                Mean  \n",
       "RandomForestClassifier      0.833871  \n",
       "XGBoostClassifier           0.818141  \n",
       "GradientBoostingClassifier  0.817061  \n",
       "LogisticRegression          0.805831  \n",
       "AdaBoostClassifier          0.800226  \n",
       "Linear SVM                  0.787879  \n",
       "KNeighborsClassifier        0.705888  \n",
       "Radial SVM                  0.672230  "
      ]
     },
     "execution_count": 44,
     "metadata": {},
     "output_type": "execute_result"
    }
   ],
   "source": [
    "mean = pd.DataFrame(KFold_Score.mean(), index= classifiers)\n",
    "KFold_Score = pd.concat([KFold_Score,mean.T])\n",
    "KFold_Score.index=['Fold 1','Fold 2','Fold 3','Fold 4','Fold 5','Mean']\n",
    "KFold_Score.T.sort_values(by=['Mean'], ascending = False)"
   ]
  },
  {
   "cell_type": "markdown",
   "id": "civilian-official",
   "metadata": {},
   "source": [
    "#### RandomForestClassifer가 평균적으로 가장 높은 정확도를 주었다."
   ]
  },
  {
   "cell_type": "markdown",
   "id": "later-community",
   "metadata": {},
   "source": [
    "## _Hyperparameter Tuning_"
   ]
  },
  {
   "cell_type": "markdown",
   "id": "nervous-survival",
   "metadata": {},
   "source": [
    "#### RandomForestClassifier로 최선의 정확도를 도출해줄 hyperparameter를 GridSearchCv를 이용해 구하려고 한다."
   ]
  },
  {
   "cell_type": "code",
   "execution_count": 45,
   "id": "understood-vienna",
   "metadata": {},
   "outputs": [],
   "source": [
    "rfc = RandomForestClassifier(random_state=0)"
   ]
  },
  {
   "cell_type": "code",
   "execution_count": 46,
   "id": "shaped-congress",
   "metadata": {},
   "outputs": [],
   "source": [
    "rf_param_grid = { \n",
    "    'n_estimators': [200,300],\n",
    "    'max_features': ['auto', 'sqrt'],\n",
    "    'max_depth' : [6,7,8],\n",
    "    'criterion' :['gini','entropy']\n",
    "}"
   ]
  },
  {
   "cell_type": "markdown",
   "id": "interesting-consideration",
   "metadata": {},
   "source": [
    "#### 여기서도 5겹-교차검증을 이용한다."
   ]
  },
  {
   "cell_type": "code",
   "execution_count": 47,
   "id": "portable-guarantee",
   "metadata": {},
   "outputs": [
    {
     "data": {
      "text/plain": [
       "{'criterion': 'entropy',\n",
       " 'max_depth': 8,\n",
       " 'max_features': 'auto',\n",
       " 'n_estimators': 200}"
      ]
     },
     "execution_count": 47,
     "metadata": {},
     "output_type": "execute_result"
    }
   ],
   "source": [
    "from sklearn.model_selection import GridSearchCV\n",
    "CV_rfc = GridSearchCV(estimator=rfc, param_grid=rf_param_grid, cv= 5)\n",
    "CV_rfc.fit(train_scaled,pred)\n",
    "CV_rfc.best_params_"
   ]
  },
  {
   "cell_type": "markdown",
   "id": "completed-establishment",
   "metadata": {},
   "source": [
    "#### 이 GridSearchCV를 통해 얻은 hyperparameter를 쓰려고 한다."
   ]
  },
  {
   "cell_type": "code",
   "execution_count": 48,
   "id": "compatible-student",
   "metadata": {},
   "outputs": [
    {
     "data": {
      "text/plain": [
       "RandomForestClassifier(criterion='entropy', max_depth=8, n_estimators=200,\n",
       "                       random_state=0)"
      ]
     },
     "execution_count": 48,
     "metadata": {},
     "output_type": "execute_result"
    }
   ],
   "source": [
    "rfc_nice=RandomForestClassifier(random_state=0, n_estimators= 200, criterion = 'entropy',\n",
    "                                max_features = 'auto',max_depth = 8)\n",
    "rfc_nice.fit(train_scaled, pred)"
   ]
  },
  {
   "cell_type": "markdown",
   "id": "opponent-hometown",
   "metadata": {},
   "source": [
    "#### 참고로 Kaggle에선 criterion='gini'를 이용한 결과가 더 높은 정확도를 보인다."
   ]
  },
  {
   "cell_type": "code",
   "execution_count": 49,
   "id": "gentle-plaintiff",
   "metadata": {},
   "outputs": [],
   "source": [
    "pred_test = rfc_nice.predict(test_scaled)"
   ]
  },
  {
   "cell_type": "markdown",
   "id": "mature-philippines",
   "metadata": {},
   "source": [
    "## _Output_"
   ]
  },
  {
   "cell_type": "markdown",
   "id": "caring-remainder",
   "metadata": {},
   "source": [
    "#### Kaggle 제출용 형식 맞추기"
   ]
  },
  {
   "cell_type": "code",
   "execution_count": 50,
   "id": "governing-profit",
   "metadata": {},
   "outputs": [],
   "source": [
    "output = pd.DataFrame({'PassengerId': test_data.PassengerId, 'Survived': pred_test})\n",
    "output.to_csv('submission.csv', index=False)"
   ]
  },
  {
   "cell_type": "code",
   "execution_count": 51,
   "id": "affected-promise",
   "metadata": {},
   "outputs": [
    {
     "data": {
      "text/html": [
       "<div>\n",
       "<style scoped>\n",
       "    .dataframe tbody tr th:only-of-type {\n",
       "        vertical-align: middle;\n",
       "    }\n",
       "\n",
       "    .dataframe tbody tr th {\n",
       "        vertical-align: top;\n",
       "    }\n",
       "\n",
       "    .dataframe thead th {\n",
       "        text-align: right;\n",
       "    }\n",
       "</style>\n",
       "<table border=\"1\" class=\"dataframe\">\n",
       "  <thead>\n",
       "    <tr style=\"text-align: right;\">\n",
       "      <th></th>\n",
       "      <th>PassengerId</th>\n",
       "      <th>Survived</th>\n",
       "    </tr>\n",
       "  </thead>\n",
       "  <tbody>\n",
       "    <tr>\n",
       "      <th>0</th>\n",
       "      <td>892</td>\n",
       "      <td>0</td>\n",
       "    </tr>\n",
       "    <tr>\n",
       "      <th>1</th>\n",
       "      <td>893</td>\n",
       "      <td>0</td>\n",
       "    </tr>\n",
       "    <tr>\n",
       "      <th>2</th>\n",
       "      <td>894</td>\n",
       "      <td>0</td>\n",
       "    </tr>\n",
       "    <tr>\n",
       "      <th>3</th>\n",
       "      <td>895</td>\n",
       "      <td>0</td>\n",
       "    </tr>\n",
       "    <tr>\n",
       "      <th>4</th>\n",
       "      <td>896</td>\n",
       "      <td>1</td>\n",
       "    </tr>\n",
       "  </tbody>\n",
       "</table>\n",
       "</div>"
      ],
      "text/plain": [
       "   PassengerId  Survived\n",
       "0          892         0\n",
       "1          893         0\n",
       "2          894         0\n",
       "3          895         0\n",
       "4          896         1"
      ]
     },
     "execution_count": 51,
     "metadata": {},
     "output_type": "execute_result"
    }
   ],
   "source": [
    "#확인해보자\n",
    "output.head()"
   ]
  },
  {
   "cell_type": "markdown",
   "id": "returning-march",
   "metadata": {},
   "source": [
    "## _Reference_"
   ]
  },
  {
   "cell_type": "markdown",
   "id": "given-sunset",
   "metadata": {},
   "source": [
    "#### •[Titanic: Machine Learning from Disaster](https://github.com/minsuk-heo/kaggle-titanic/blob/master/titanic-solution.ipynb)  \n",
    "#### •[Titanic - Top 4% , Hyperparameter Tuning ](https://www.kaggle.com/tanmayunhale/titanic-top-4-hyperparameter-tuning)"
   ]
  }
 ],
 "metadata": {
  "kernelspec": {
   "display_name": "Python 3",
   "language": "python",
   "name": "python3"
  },
  "language_info": {
   "codemirror_mode": {
    "name": "ipython",
    "version": 3
   },
   "file_extension": ".py",
   "mimetype": "text/x-python",
   "name": "python",
   "nbconvert_exporter": "python",
   "pygments_lexer": "ipython3",
   "version": "3.8.5"
  }
 },
 "nbformat": 4,
 "nbformat_minor": 5
}
